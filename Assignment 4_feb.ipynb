{
 "cells": [
  {
   "cell_type": "markdown",
   "id": "42d2a4e4-2c95-43c9-a0f3-2a378ae3732f",
   "metadata": {},
   "source": [
    "# Question1:\n",
    "When we sort a list with a lambda function, it enables the creation of custom sorting orders. \n",
    "The sort() method and sorted() function can sort lists in descending or ascending (alphabetical and numerical) order by default."
   ]
  },
  {
   "cell_type": "markdown",
   "id": "23ff3e74-bd36-4c41-bb3c-3009cdd2b7db",
   "metadata": {},
   "source": [
    "# syntax:\n",
    "sort(): This is a built-in list method called list.sort(). The sort() method sorts the list in place. It updates the order of the original list.\n",
    "\n",
    "list.sort(key = none, reverse = false)\n"
   ]
  },
  {
   "cell_type": "code",
   "execution_count": 1,
   "id": "67a9f77f-ca87-495e-9b32-e3a3204f2e1d",
   "metadata": {},
   "outputs": [
    {
     "name": "stdout",
     "output_type": "stream",
     "text": [
      "original list of tuples:\n",
      "[('Sachin Tendulkar', 34357), ('Ricky ponting', 27483), ('Jack Kallis', 25534), ('Virat Kohli', 24936)]\n",
      "\n",
      "sorting the list of tuples:\n",
      "[('Virat Kohli', 24936), ('Jack Kallis', 25534), ('Ricky ponting', 27483), ('Sachin Tendulkar', 34357)]\n"
     ]
    }
   ],
   "source": [
    "list1= [('Sachin Tendulkar',34357),('Ricky ponting',27483),('Jack Kallis',25534),('Virat Kohli',24936)]\n",
    "print(\"original list of tuples:\")\n",
    "print(list1)\n",
    "list1.sort(key = lambda x : x[1])\n",
    "print(\"\\nsorting the list of tuples:\")\n",
    "print(list1)"
   ]
  },
  {
   "cell_type": "markdown",
   "id": "e7dd13bc-7172-43a3-a07e-f2645d24a742",
   "metadata": {},
   "source": [
    "# Question2: "
   ]
  },
  {
   "cell_type": "code",
   "execution_count": 2,
   "id": "6523ed98-48f1-4ac5-b546-9adff306a94c",
   "metadata": {},
   "outputs": [
    {
     "data": {
      "text/plain": [
       "[2, 4, 6, 8, 10, 12, 14, 16, 18, 20]"
      ]
     },
     "execution_count": 2,
     "metadata": {},
     "output_type": "execute_result"
    }
   ],
   "source": [
    "# suare of all numbers using map and lambda function \n",
    "list1=[1,2,3,4,5,6,7,8,9,10]\n",
    "list(map(lambda x: x*2,list1))"
   ]
  },
  {
   "cell_type": "markdown",
   "id": "9fca1d60-cc15-4606-9f1f-c9f20099e313",
   "metadata": {},
   "source": [
    "# Question3:"
   ]
  },
  {
   "cell_type": "code",
   "execution_count": 3,
   "id": "12d744e5-aab5-49cc-9c50-d0a3fb648301",
   "metadata": {},
   "outputs": [
    {
     "data": {
      "text/plain": [
       "('1', '2', '3', '4', '5', '6', '7', '8', '9', '10')"
      ]
     },
     "execution_count": 3,
     "metadata": {},
     "output_type": "execute_result"
    }
   ],
   "source": [
    "# convert a given list into tuple of string with map and lambda function\n",
    "list1=[1,2,3,4,5,6,7,8,9,10]\n",
    "tuple(map(lambda x:str(x),list1))\n"
   ]
  },
  {
   "cell_type": "markdown",
   "id": "6d2dbb70-3d29-4317-82a1-0d62cb3200d6",
   "metadata": {},
   "source": [
    "# Question 4:"
   ]
  },
  {
   "cell_type": "code",
   "execution_count": 4,
   "id": "5eace0b1-4f32-40df-a6fb-31cf31b40161",
   "metadata": {},
   "outputs": [
    {
     "name": "stdout",
     "output_type": "stream",
     "text": [
      "15511210043330985984000000\n"
     ]
    }
   ],
   "source": [
    "from functools import reduce\n",
    "num_list=[1,2,3,4,5,6,7,8,9,10,11,12,13,14,15,16,17,18,19,20,21,22,23,24,25]\n",
    "product = reduce(lambda x,y: x*y, num_list)\n",
    "print(product)"
   ]
  },
  {
   "cell_type": "markdown",
   "id": "26b33265-7242-4d31-9d5b-0225d66235e0",
   "metadata": {},
   "source": [
    "# Question5:"
   ]
  },
  {
   "cell_type": "code",
   "execution_count": 5,
   "id": "c0037ac6-8169-4ac3-940a-5ba7e349abb8",
   "metadata": {},
   "outputs": [
    {
     "data": {
      "text/plain": [
       "[6, 60, 90, 120]"
      ]
     },
     "execution_count": 5,
     "metadata": {},
     "output_type": "execute_result"
    }
   ],
   "source": [
    "list1=[2,3,6,9,27,60,90,120,55,46]\n",
    "list(filter(lambda x: x%2==0 and x%3==0, list1))"
   ]
  },
  {
   "cell_type": "markdown",
   "id": "6fed9d23-19e0-41a7-bbd7-592abb915eca",
   "metadata": {},
   "source": [
    "# Question6:\n",
    "A palindromic number or numeral palindrome is a number that remains the same when its digits are reversed. "
   ]
  },
  {
   "cell_type": "code",
   "execution_count": 6,
   "id": "f08f2556-6511-4e14-80f9-43c8cb593498",
   "metadata": {},
   "outputs": [
    {
     "name": "stdout",
     "output_type": "stream",
     "text": [
      "Orginal list of strings:\n",
      "['python', 'php', 'radar', 'level']\n",
      "\n",
      "List of palindromes:\n",
      "['php', 'radar', 'level']\n"
     ]
    }
   ],
   "source": [
    "list2=['python','php','radar','level']\n",
    "print(\"Orginal list of strings:\")\n",
    "print(list2)\n",
    "result = list(filter(lambda x: (x == \"\".join(reversed(x))), list2)) \n",
    "print(\"\\nList of palindromes:\")\n",
    "print(result) \n"
   ]
  },
  {
   "cell_type": "code",
   "execution_count": null,
   "id": "887fc217-988b-4ad7-b908-fcad0c0ad5b8",
   "metadata": {},
   "outputs": [],
   "source": []
  }
 ],
 "metadata": {
  "kernelspec": {
   "display_name": "Python 3 (ipykernel)",
   "language": "python",
   "name": "python3"
  },
  "language_info": {
   "codemirror_mode": {
    "name": "ipython",
    "version": 3
   },
   "file_extension": ".py",
   "mimetype": "text/x-python",
   "name": "python",
   "nbconvert_exporter": "python",
   "pygments_lexer": "ipython3",
   "version": "3.10.8"
  }
 },
 "nbformat": 4,
 "nbformat_minor": 5
}
